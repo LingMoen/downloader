{
  "cells": [
    {
      "cell_type": "markdown",
      "metadata": {
        "id": "view-in-github",
        "colab_type": "text"
      },
      "source": [
        "<a href=\"https://colab.research.google.com/github/LingMoen/otakudesu-api/blob/master/tecno_24_6.ipynb\" target=\"_parent\"><img src=\"https://colab.research.google.com/assets/colab-badge.svg\" alt=\"Open In Colab\"/></a>"
      ]
    },
    {
      "cell_type": "markdown",
      "metadata": {
        "id": "5dh1RW0Ik5Dk"
      },
      "source": []
    },
    {
      "cell_type": "code",
      "execution_count": null,
      "metadata": {
        "colab": {
          "base_uri": "https://localhost:8080/",
          "height": 119
        },
        "id": "jTpG5eonmK9S",
        "outputId": "b31509d8-68e9-4a51-ecf2-2cb25be473d7"
      },
      "outputs": [
        {
          "data": {
            "text/html": [
              "<script>function handleFiles(event) {\n",
              "    var files = event.target.files;\n",
              "    $(\"#src\").attr(\"src\", URL.createObjectURL(files[0]));\n",
              "    document.getElementById(\"audio\").load();\n",
              "}\n",
              "\n",
              "document.getElementById(\"upload\").addEventListener(\"change\", handleFiles, false);</script>\n",
              "<script src=\"https://ajax.googleapis.com/ajax/libs/jquery/2.1.1/jquery.min.js\"></script>\n",
              "\n",
              "<input type=\"file\" id=\"upload\" />\n",
              "<audio id=\"audio\" controls>\n",
              "  <source src=\"\" id=\"src\" />\n",
              "</audio>\n"
            ],
            "text/plain": [
              "<IPython.core.display.HTML object>"
            ]
          },
          "metadata": {},
          "output_type": "display_data"
        }
      ],
      "source": [
        "%%html\n",
        "<script>function handleFiles(event) {\n",
        "    var files = event.target.files;\n",
        "    $(\"#src\").attr(\"src\", URL.createObjectURL(files[0]));\n",
        "    document.getElementById(\"audio\").load();\n",
        "}\n",
        "\n",
        "document.getElementById(\"upload\").addEventListener(\"change\", handleFiles, false);</script>\n",
        "<script src=\"https://ajax.googleapis.com/ajax/libs/jquery/2.1.1/jquery.min.js\"></script>\n",
        "\n",
        "<input type=\"file\" id=\"upload\" />\n",
        "<audio id=\"audio\" controls>\n",
        "  <source src=\"\" id=\"src\" />\n",
        "</audio>"
      ]
    },
    {
      "cell_type": "markdown",
      "metadata": {
        "id": "bsiZpfkU7S77"
      },
      "source": [
        "# 1. Setup the web ui"
      ]
    },
    {
      "cell_type": "code",
      "execution_count": null,
      "metadata": {
        "colab": {
          "base_uri": "https://localhost:8080/"
        },
        "id": "sBbcB4vwj_jm",
        "outputId": "6ad20c49-f9b2-4ffc-f867-f97ab0d35364"
      },
      "outputs": [
        {
          "name": "stdout",
          "output_type": "stream",
          "text": [
            "Interrupted with signal 2 in <frame at 0x73c52410, file '/content/stable-diffusion-webui/webui.py', line 173, code wait_on_server>\n"
          ]
        }
      ],
      "source": [
        "\n",
        "!curl -Lo memfix.zip https://github.com/nolanaatama/sd-webui/raw/main/memfix.zip\n",
        "!unzip /content/memfix.zip\n",
        "!apt install -qq libunwind8-dev\n",
        "!dpkg -i *.deb\n",
        "%env LD_PRELOAD=libtcmalloc.so\n",
        "!rm *\n",
        "!pip install --upgrade fastapi==0.90.1\n",
        "!git clone https://github.com/AUTOMATIC1111/stable-diffusion-webui\n",
        "!git clone https://github.com/nolanaatama/sd-webui-tunnels /content/stable-diffusion-webui/extensions/sd-webui-tunnels\n",
        "!git clone https://github.com/Mikubill/sd-webui-controlnet /content/stable-diffusion-webui/extensions/sd-webui-controlnet\n",
        "!git clone https://github.com/fkunn1326/openpose-editor /content/stable-diffusion-webui/extensions/openpose-editor\n",
        "!git clone https://github.com/yfszzx/stable-diffusion-webui-images-browser /content/stable-diffusion-webui/extensions/stable-diffusion-webui-images-browser\n",
        "!git clone https://github.com/DominikDoom/a1111-sd-webui-tagcomplete /content/stable-diffusion-webui/extensions/a1111-sd-webui-tagcomplete\n",
        "\n",
        "# Model(s) setup\n",
        "#Anime\n",
        "#!curl -Lo /content/stable-diffusion-webui/models/Stable-diffusion/anythingv4.5.ckpt https://huggingface.co/andite/anything-v4.0/resolve/main/anything-v4.5-pruned.ckpt\n",
        "#!curl -Lo /content/stable-diffusion-webui/models/Stable-diffusion/anythingv4.5.vae.pt https://huggingface.co/WarriorMama777/OrangeMixs/resolve/main/VAEs/orangemix.vae.pt\n",
        "# Model Code\n",
        "!curl -Lo /content/stable-diffusion-webui/models/Stable-diffusion/abyssorangemix3.safetensors https://huggingface.co/WarriorMama777/OrangeMixs/resolve/main/Models/AbyssOrangeMix3/AOM3_orangemixs.safetensors\n",
        "!curl -Lo /content/stable-diffusion-webui/models/Stable-diffusion/abyssorangemix3.vae.pt https://huggingface.co/WarriorMama777/OrangeMixs/resolve/main/VAEs/orangemix.vae.pt\n",
        "\n",
        "\n",
        "# Below are model code for ChilloutMix, we always could change it to our desired model (how-to: https://youtu.be/vj-QrS_mWQI or https://youtu.be/MwyfwPFezvY)\n",
        "!curl -Lo /content/stable-diffusion-webui/models/Stable-diffusion/chilloutmixni.safetensors https://huggingface.co/nolanaatama/chomni/resolve/main/chomni.safetensors\n",
        "#!curl -Lo /content/stable-diffusion-webui/models/Stable-diffusion/chilloutmix_NiPrunedFp32Fix.safetensors https://civitai.com/api/download/models/11745\n",
        "!curl -Lo ulzzang-6500.pt https://huggingface.co/nolanaatama/chomni/resolve/main/ulzzang-6500.pt\n",
        "!mv \"/content/ulzzang-6500.pt\" \"/content/stable-diffusion-webui/embeddings\"\n",
        "!curl -Lo /content/stable-diffusion-webui/models/Stable-diffusion/chilled_re-generic.safetensors https://huggingface.co/nolanaatama/chlldrgnrc/resolve/main/chilled_re-generic.safetensors\n",
        "\n",
        "!wget https://civitai.com/api/download/models/1944 --content-disposition\n",
        "!mv \"/content/CarHelper.pt\" \"/content/stable-diffusion-webui/embeddings\"\n",
        "\n",
        "# ControlNet\n",
        "!curl -Lo /content/stable-diffusion-webui/extensions/sd-webui-controlnet/models/control_canny.safetensors https://huggingface.co/webui/ControlNet-modules-safetensors/resolve/main/control_canny-fp16.safetensors\n",
        "!curl -Lo /content/stable-diffusion-webui/extensions/sd-webui-controlnet/models/control_depth.safetensors https://huggingface.co/webui/ControlNet-modules-safetensors/resolve/main/control_depth-fp16.safetensors\n",
        "!curl -Lo /content/stable-diffusion-webui/extensions/sd-webui-controlnet/models/control_hed-fp16.safetensors https://huggingface.co/webui/ControlNet-modules-safetensors/resolve/main/control_hed-fp16.safetensors\n",
        "!curl -Lo /content/stable-diffusion-webui/extensions/sd-webui-controlnet/models/control_mlsd-fp16.safetensors https://huggingface.co/webui/ControlNet-modules-safetensors/resolve/main/control_mlsd-fp16.safetensors\n",
        "!curl -Lo /content/stable-diffusion-webui/extensions/sd-webui-controlnet/models/control_normal-fp16.safetensors https://huggingface.co/webui/ControlNet-modules-safetensors/resolve/main/control_normal-fp16.safetensors\n",
        "!curl -Lo /content/stable-diffusion-webui/extensions/sd-webui-controlnet/models/control_openpose-fp16.safetensors https://huggingface.co/webui/ControlNet-modules-safetensors/resolve/main/control_openpose-fp16.safetensors\n",
        "!curl -Lo /content/stable-diffusion-webui/extensions/sd-webui-controlnet/models/control_scribble-fp16.safetensors https://huggingface.co/webui/ControlNet-modules-safetensors/resolve/main/control_scribble-fp16.safetensors\n",
        "!curl -Lo /content/stable-diffusion-webui/extensions/sd-webui-controlnet/models/control_seg-fp16.safetensors https://huggingface.co/webui/ControlNet-modules-safetensors/resolve/main/control_seg-fp16.safetensors\n",
        "import shutil\n",
        "shutil.rmtree('/content/stable-diffusion-webui/embeddings')\n",
        "%cd /content/stable-diffusion-webui\n",
        "!git checkout 0cc0ee1\n",
        "!git clone https://huggingface.co/nolanaatama/embeddings\n",
        "# Web UI tunnel (use cloudflare by default)\n",
        "!COMMANDLINE_ARGS=\"--disable-safe-unpickle --no-half-vae --xformers --reinstall-xformers --enable-insecure-extension- --gradio-queue --cloudflared\" REQS_FILE=\"requirements.txt\" python launch.py\n",
        "# If cloudflare failed to start, we may try these options:\n",
        "# Change '--cloudflared' to '--remotemoe' on the COMMANDLINE_ARGS line above to use remotemoe tunnel\n",
        "# Change '--cloudflared' to '--localhostrun' to use localhost.run tunnel\n",
        "# Change '--cloudflared' to '--share' to use gradio tunnel"
      ]
    },
    {
      "cell_type": "markdown",
      "metadata": {
        "id": "JUtPlg328avv"
      },
      "source": [
        "# 2. After the gradio link show up, stop the first cell & clear the code output👆"
      ]
    },
    {
      "cell_type": "markdown",
      "metadata": {
        "id": "qxhOCPrg7WXm"
      },
      "source": [
        "# 3. Load the LoRA & launch the web ui"
      ]
    },
    {
      "cell_type": "code",
      "source": [],
      "metadata": {
        "id": "q2G2rtjxE4eK"
      },
      "execution_count": null,
      "outputs": []
    },
    {
      "cell_type": "markdown",
      "metadata": {
        "id": "0p4leT_lP-7c"
      },
      "source": [
        "#WARNING 🔞"
      ]
    },
    {
      "cell_type": "code",
      "execution_count": null,
      "metadata": {
        "id": "wxHS4mjzQF8h"
      },
      "outputs": [],
      "source": [
        "\n",
        "#WARNING 18+ (Pose) not 100% successful\n",
        "#Grabbing own Ass ~ https://civitai.com/models/8179/grabbing-own-ass\n",
        "!wget https://civitai.com/api/download/models/13373 --content-disposition\n",
        "!mv \"/content/stable-diffusion-webui/grabbingOwnAss_v1Pruned.safetensors\" \"/content/stable-diffusion-webui/models/Lora\"\n",
        "\n",
        "#Blowjob ~ https://civitai.com/models/9045/redo-of-povbjer\n",
        "!wget https://civitai.com/api/download/models/10690 --content-disposition\n",
        "!mv \"/content/stable-diffusion-webui/redoOfPovbjer_v2.safetensors\" \"/content/stable-diffusion-webui/models/Lora\"\n",
        "\n",
        "#DoggyStyle ~ https://civitai.com/models/8723/pov-doggystyle-lora-1-mb\n",
        "!wget https://civitai.com/api/download/models/10290 --content-disposition\n",
        "!mv \"/content/stable-diffusion-webui/povDoggystyleLora1MB_povdoggy.safetensors\" \"/content/stable-diffusion-webui/models/Lora\"\n",
        "\n",
        "#Penetration ~ https://civitai.com/models/9432/pov-imminent-penetration-1-mb\n",
        "!wget https://civitai.com/api/download/models/11192 --content-disposition\n",
        "!mv \"/content/stable-diffusion-webui/povImminentPenetration_ipv1.safetensors\" \"/content/stable-diffusion-webui/models/Lora\"\n",
        "\n",
        "#breasts on glass ~ https://civitai.com/models/7328/breastsonglass\n",
        "!wget https://civitai.com/api/download/models/8614 --content-disposition\n",
        "!mv \"/content/stable-diffusion-webui/breastsOnGlass_v10.safetensors\" \"/content/stable-diffusion-webui/models/Lora\"\n",
        "\n",
        "#Dildo ~ https://civitai.com/models/8349/riding-dildo-or-sex-act-lora-658\n",
        "!wget https://civitai.com/api/download/models/9852 --content-disposition\n",
        "!mv \"/content/stable-diffusion-webui/ridingDildoSexActLora_v10.safetensors\" \"/content/stable-diffusion-webui/models/Lora\"\n",
        "\n",
        "#Coming Soon update XD\n",
        "\n",
        "\n",
        "!COMMANDLINE_ARGS=\"--share --disable-safe-unpickle --no-half-vae --xformers --reinstall-xformers --enable-insecure-extension-access\" REQS_FILE=\"requirements.txt\" python launch.py"
      ]
    },
    {
      "cell_type": "markdown",
      "metadata": {
        "id": "fhwIXzcgfkoR"
      },
      "source": [
        "## 📚 GitHub for more: [_@nolanaatama_](https://github.com/nolanaatama)\n",
        "## 📦 Repo: [Github](https://github.com/nolanaatama/sd-1click-colab)\n",
        "## 📱 Recode By [M14A6](https://github.com/M14A6/), [Lenz](https://github.com/Len-cmd) & [Lingz](https://github.com/Lingz-ui/)\n",
        "## [`Thx`]"
      ]
    }
  ],
  "metadata": {
    "accelerator": "GPU",
    "colab": {
      "provenance": [],
      "include_colab_link": true
    },
    "gpuClass": "standard",
    "kernelspec": {
      "display_name": "Python 3",
      "name": "python3"
    },
    "language_info": {
      "name": "python"
    }
  },
  "nbformat": 4,
  "nbformat_minor": 0
}